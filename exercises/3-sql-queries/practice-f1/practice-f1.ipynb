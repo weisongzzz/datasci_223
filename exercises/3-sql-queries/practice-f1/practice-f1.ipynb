{
 "cells": [
  {
   "cell_type": "markdown",
   "metadata": {},
   "source": [
    "# Practice using F1 data from Ergast API (compiled by Kaggle)\n",
    "[F1 World Championship 1950-2023](https://www.kaggle.com/datasets/rohanrao/formula-1-world-championship-1950-2020)"
   ]
  },
  {
   "cell_type": "code",
   "execution_count": null,
   "metadata": {},
   "outputs": [],
   "source": [
    "# Load packages\n",
    "import pandas as pd\n",
    "import zipfile\n",
    "import os\n",
    "from sqlalchemy import create_engine\n",
    "\n",
    "# Connect to an in-memory SQLite database\n",
    "engine = create_engine('sqlite:///:memory:')\n",
    "\n",
    "# Configure the SQL magic\n",
    "%load_ext sql\n",
    "%config SqlMagic.autopandas = True\n",
    "%config SqlMagic.feedback = False\n",
    "%config SqlMagic.displaycon = False\n",
    "\n",
    "# Use %sql magic to connect to the SQLite database\n",
    "%sql sqlite:///:memory:\n",
    "\n",
    "# Unzip the data\n",
    "with zipfile.ZipFile('F1.zip', 'r') as zip_ref:\n",
    "    zip_ref.extractall('data')\n",
    "\n",
    "# Load each CSV into a DataFrame\n",
    "tables = []\n",
    "for f in os.listdir('data'):\n",
    "    if f.endswith('.csv'):\n",
    "        table_name = f.replace('.csv', '')\n",
    "        file_path = os.path.join('data', f)\n",
    "        # tables[table_name] = pd.read_csv(file_path)\n",
    "        tables.append(table_name)\n",
    "        globals()[table_name] = pd.read_csv(file_path)\n",
    "\n",
    "\n",
    "# Use %sql magic to create temporary tables\n",
    "for table_name in tables:\n",
    "    %sql DROP TABLE IF EXISTS {table_name}\n",
    "    %sql --persist {table_name}"
   ]
  },
  {
   "cell_type": "code",
   "execution_count": null,
   "metadata": {},
   "outputs": [],
   "source": [
    "# Query using %sql magic\n",
    "res = %sql SELECT * FROM results LIMIT 5\n",
    "display(res)\n"
   ]
  },
  {
   "cell_type": "code",
   "execution_count": null,
   "metadata": {},
   "outputs": [],
   "source": [
    "%sql SELECT * FROM circuits LIMIT 5"
   ]
  },
  {
   "cell_type": "code",
   "execution_count": null,
   "metadata": {},
   "outputs": [],
   "source": []
  }
 ],
 "metadata": {
  "kernelspec": {
   "display_name": ".venv",
   "language": "python",
   "name": "python3"
  },
  "language_info": {
   "codemirror_mode": {
    "name": "ipython",
    "version": 3
   },
   "file_extension": ".py",
   "mimetype": "text/x-python",
   "name": "python",
   "nbconvert_exporter": "python",
   "pygments_lexer": "ipython3",
   "version": "3.11.7"
  }
 },
 "nbformat": 4,
 "nbformat_minor": 2
}
