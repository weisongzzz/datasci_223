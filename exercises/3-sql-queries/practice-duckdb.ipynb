{
 "cells": [
  {
   "cell_type": "markdown",
   "metadata": {},
   "source": [
    "# DuckDB\n",
    "\n",
    "## Why DuckDB\n",
    "\n",
    "DuckDB is a lot like SQLite but with more features:\n",
    " - Open local databases/files (including sqlite databases)\n",
    " - Connect to remote databases or files hosted on AWS S3, and you can treat them as if they were local\n",
    " - Automatically allow querying of pandas dataframes via %sql magic\n",
    "\n",
    "## Using DuckDB\n",
    "\n",
    "1. Install packages\n",
    "    1. `duckdb-engine` provides the database\n",
    "    2. `jupysql` provides jupyter magic (**WARNING: may not play nice with `ipython-sql`**)\n",
    "2. Load packages\n",
    "    1. `import duckdb` instead of `sqlite`\n",
    "    2. `%load_ext sql` (NOTE: `jupysql` prints a single line advertisement for its maintainer, \"ploomer\")\n",
    "3. Set up the database\n",
    "    1. `%sql duckdb://` instead of `sqrlite://`\n",
    "    2. Load data from CSV, sqlite, wherever\n",
    "    3. Query away!"
   ]
  },
  {
   "cell_type": "code",
   "execution_count": null,
   "metadata": {},
   "outputs": [],
   "source": [
    "# Install the required packages (duckdb, pandas, pyarrow)\n",
    "# -U is for upgrade\n",
    "# -q is for quiet\n",
    "%pip install -qU duckdb-engine pandas pyarrow jupysql"
   ]
  },
  {
   "cell_type": "code",
   "execution_count": null,
   "metadata": {},
   "outputs": [],
   "source": [
    "import os\n",
    "import duckdb\n",
    "import pandas as pd\n",
    "\n",
    "%load_ext sql\n",
    "%config SqlMagic.autopandas = True  # Return Pandas DataFrames instead of regular result sets\n",
    "%config SqlMagic.displaycon = False # Don't show connection string after execute\n",
    "%config SqlMagic.feedback = False   # Don't print number of rows affected\n",
    "\n",
    "# Create a connection to the DuckDB database\n",
    "%sql duckdb://\n",
    "\n",
    "# Load chinook.sqlite into the DuckDB database\n",
    "%sql DETACH DATABASE IF EXISTS chinook # Detach the database if it's already attached\n",
    "%sql ATTACH DATABASE 'chinook.sqlite' AS chinook # Attach the database in the 'chinook' schema"
   ]
  },
  {
   "cell_type": "code",
   "execution_count": null,
   "metadata": {},
   "outputs": [],
   "source": [
    "# Test the attached SQLite using a query\n",
    "%sql SELECT * FROM chinook.albums LIMIT 5"
   ]
  },
  {
   "cell_type": "code",
   "execution_count": null,
   "metadata": {},
   "outputs": [],
   "source": [
    "# Test querying a Pandas dataframe\n",
    "df = pd.DataFrame({'a': ['this', 'a', 'data'], 'b': ['is', 'pandas', 'frame']})\n",
    "%sql select * from df"
   ]
  },
  {
   "cell_type": "code",
   "execution_count": null,
   "metadata": {},
   "outputs": [],
   "source": [
    "## We can set the default path to 'chinook'\n",
    "## WARNING: Since chinook is SQLite, it doesn't support schemas, this will break if we want to add schemas later\n",
    "# %sql USE chinook\n",
    "# %sql SELECT * FROM albums LIMIT 5"
   ]
  },
  {
   "cell_type": "code",
   "execution_count": null,
   "metadata": {},
   "outputs": [],
   "source": [
    "# We can copy all tables from chinook to the default schema for convenience\n",
    "chinook_tables = %sql SELECT table_name FROM information_schema.tables WHERE table_catalog = 'chinook'\n",
    "for table in chinook_tables.table_name:\n",
    "    %sql DROP TABLE IF EXISTS {{table}}\n",
    "    %sql CREATE TABLE {{table}} AS SELECT * FROM chinook.{{table}}\n",
    "\n",
    "# Test the connection using a query\n",
    "%sql SELECT * FROM albums LIMIT 5"
   ]
  },
  {
   "cell_type": "code",
   "execution_count": null,
   "metadata": {},
   "outputs": [],
   "source": [
    "# Load the F1 csv's into the DuckDB database under the 'f1' schema\n",
    "\n",
    "# Create a new schema for the F1 data, if it doesn't already exist\n",
    "%sql CREATE SCHEMA IF NOT EXISTS f1 \n",
    "\n",
    "# Load the csv's into the database \n",
    "# NOTE: This requires the csv's to be in the 'practice-f1/data' folder (run the practice notebook there first)\n",
    "data_files = [f for f in os.listdir('practice-f1/data') if f.endswith('.csv')]\n",
    "for f in data_files:\n",
    "    table_name = f.split('.')[0]\n",
    "    %sql DROP TABLE IF EXISTS f1.{{table_name}}\n",
    "    %sql CREATE TABLE f1.{{table_name}} AS SELECT * FROM read_csv_auto('practice-f1/data/{{f}}')\n",
    "\n",
    "# Test the connection using a query\n",
    "%sql SELECT table_schema, table_name FROM information_schema.tables WHERE table_schema = 'f1'"
   ]
  },
  {
   "cell_type": "code",
   "execution_count": null,
   "metadata": {},
   "outputs": [],
   "source": [
    "# Show the tables in the 'f1' schema\n",
    "%sql SELECT * FROM f1.circuits LIMIT 5"
   ]
  },
  {
   "cell_type": "code",
   "execution_count": null,
   "metadata": {},
   "outputs": [],
   "source": []
  }
 ],
 "metadata": {
  "kernelspec": {
   "display_name": ".venv",
   "language": "python",
   "name": "python3"
  },
  "language_info": {
   "codemirror_mode": {
    "name": "ipython",
    "version": 3
   },
   "file_extension": ".py",
   "mimetype": "text/x-python",
   "name": "python",
   "nbconvert_exporter": "python",
   "pygments_lexer": "ipython3",
   "version": "3.11.7"
  }
 },
 "nbformat": 4,
 "nbformat_minor": 2
}
