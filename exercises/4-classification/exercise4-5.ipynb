{
 "cells": [
  {
   "cell_type": "markdown",
   "metadata": {},
   "source": [
    "# Classification on `emnist`\n",
    "\n",
    "## 1. Create `Readme.md` to document your work\n",
    "\n",
    "Explain your choices, process, and outcomes.\n",
    "\n",
    "## 2. Classify ~~all symbols~~ letters a -> g\n",
    "\n",
    "### Subset the data\n",
    "\n",
    "Select only the lowercase letters (a, b, ..., g) for classification\n",
    "\n",
    "### Choose a model\n",
    "\n",
    "Your choice of model! Choose wisely...\n",
    "\n",
    "### Train away!\n",
    "\n",
    "Is do you need to tune any parameters? Is the model expecting data in a different format?\n",
    "\n",
    "### Evaluate the model\n",
    "\n",
    "Evaluate the models on the test set, analyze the confusion matrix to see where the model performs well and where it struggles.\n",
    "\n",
    "### Investigate subsets\n",
    "\n",
    "On which classes does the model perform well? Poorly? Evaluate again, excluding easily confused symbols (such as 'O' and '0').\n",
    "\n",
    "### Improve performance\n",
    "\n",
    "Brainstorm for improving the performance. This could include trying different architectures, adding more layers, changing the loss function, or using data augmentation techniques.\n",
    "\n",
    "## 3. Model showdown: upper vs lowercase on abcXYZ\n",
    "\n",
    "### Subset the data\n",
    "\n",
    "Select out the set of upper- and lowercase (a, b, c, x, y z, A, B, C, X, Y, Z). Note that some of these classes can be confusing (e.g., x and y).\n",
    "\n",
    "### Train and tune models\n",
    "\n",
    "Perform a full model training and hyperparameter tuning.\n",
    "\n",
    "1. Select candidate models, hyperparameter options, and evaluation metric\n",
    "2. Set aside a validation hold-out dataset\n",
    "3. Train models over K splits (use k-fold or train/test split)\n",
    "    1. Split train using k-fold with the number of folds equal to the number of parameter combinations\n",
    "    2. Train on k-fold split\n",
    "    3. Record performance of each set of parameters\n",
    "    4. Use winning set of parameters to train model on full training set\n",
    "    5. Record each model's performance on that split's test set\n",
    "4. Evaluate model performance and promote one model as the winner\n",
    "5. Train winning model on both train + test\n",
    "6. Check model performance on the validation hold-out\n",
    "\n",
    "\n",
    "## 4. (_Optional_) Model comparison: classify even vs odd\n",
    "\n",
    "**NOTE:** This is a larger dataset (~400k rows) so it will require more memory and time to train models on it. \n",
    "\n",
    "Alternatively, you can train models on smaller subsets of the data to get a feel for which models perform better than others. Then train the winning model on the full dataset and validate against the hold-out.\n",
    "\n",
    "### Subset the data\n",
    "\n",
    "Select only digits and add a column for 'is_even'. Be sure to create a validation hold-out dataset for later.\n",
    "\n",
    "### Build and compare models\n",
    "\n",
    "Train at least two different models, compare the results and choose a winner based on an evaluation metric of your choice."
   ]
  },
  {
   "cell_type": "code",
   "execution_count": 99,
   "metadata": {},
   "outputs": [
    {
     "name": "stdout",
     "output_type": "stream",
     "text": [
      "Note: you may need to restart the kernel to use updated packages.Requirement already satisfied: emnist in c:\\users\\wilso\\onedrive\\documents from long ago\\datasci 223\\datasci_223\\.venv\\lib\\site-packages (from -r requirements.txt (line 1)) (0.0)\n",
      "Requirement already satisfied: pandas in c:\\users\\wilso\\onedrive\\documents from long ago\\datasci 223\\datasci_223\\.venv\\lib\\site-packages (from -r requirements.txt (line 2)) (2.2.0)\n",
      "Collecting pyarrow (from -r requirements.txt (line 3))\n",
      "  Using cached pyarrow-15.0.0-cp312-cp312-win_amd64.whl.metadata (3.1 kB)\n",
      "Requirement already satisfied: numpy in c:\\users\\wilso\\onedrive\\documents from long ago\\datasci 223\\datasci_223\\.venv\\lib\\site-packages (from -r requirements.txt (line 4)) (1.26.4)\n",
      "Requirement already satisfied: matplotlib in c:\\users\\wilso\\onedrive\\documents from long ago\\datasci 223\\datasci_223\\.venv\\lib\\site-packages (from -r requirements.txt (line 5)) (3.8.3)\n",
      "Requirement already satisfied: seaborn in c:\\users\\wilso\\onedrive\\documents from long ago\\datasci 223\\datasci_223\\.venv\\lib\\site-packages (from -r requirements.txt (line 6)) (0.13.2)\n",
      "Requirement already satisfied: scikit-learn in c:\\users\\wilso\\onedrive\\documents from long ago\\datasci 223\\datasci_223\\.venv\\lib\\site-packages (from -r requirements.txt (line 7)) (1.4.0)\n",
      "Requirement already satisfied: xgboost in c:\\users\\wilso\\onedrive\\documents from long ago\\datasci 223\\datasci_223\\.venv\\lib\\site-packages (from -r requirements.txt (line 8)) (2.0.3)\n",
      "\n"
     ]
    },
    {
     "name": "stderr",
     "output_type": "stream",
     "text": [
      "ERROR: Could not find a version that satisfies the requirement tensorflow (from versions: none)\n",
      "ERROR: No matching distribution found for tensorflow\n"
     ]
    }
   ],
   "source": [
    "%pip install -r requirements.txt"
   ]
  },
  {
   "cell_type": "code",
   "execution_count": 100,
   "metadata": {},
   "outputs": [],
   "source": [
    "# Import packages\n",
    "import os\n",
    "import string\n",
    "import random\n",
    "import numpy as np\n",
    "import pandas as pd\n",
    "import matplotlib.pyplot as plt\n",
    "import seaborn as sns\n",
    "import emnist\n",
    "from IPython.display import display, Markdown\n",
    "\n",
    "# ML packages\n",
    "# Random Forest\n",
    "from sklearn.ensemble import RandomForestClassifier\n",
    "from sklearn.metrics import confusion_matrix, accuracy_score, precision_score, recall_score, f1_score\n",
    "# Logistic Regression\n",
    "from sklearn.linear_model import LogisticRegression\n",
    "from sklearn.preprocessing import StandardScaler\n",
    "from sklearn.model_selection import cross_val_score, KFold, ParameterGrid, train_test_split\n",
    "\n",
    "# XGBoost (SVM)\n",
    "from xgboost import XGBClassifier\n",
    "# Deep Learning\n",
    "#import tensorflow as tf\n",
    "#from tensorflow import keras\n",
    "#from tensorflow.keras.models import Sequential\n",
    "#from tensorflow.keras.layers import Dense, Flatten\n",
    "# Constants\n",
    "SIZE = 28"
   ]
  },
  {
   "cell_type": "code",
   "execution_count": 101,
   "metadata": {},
   "outputs": [],
   "source": [
    "# Define helper functions\n",
    "def int_to_char(label):\n",
    "    \"\"\"Convert an integer label to the corresponding uppercase character.\"\"\"\n",
    "    if label < 10:\n",
    "        return str(label)\n",
    "    elif label < 36:\n",
    "        return chr(label - 10 + ord('A'))\n",
    "    else:\n",
    "        return chr(label - 36 + ord('a'))\n",
    "\n",
    "def which_case(case):\n",
    "    \"\"\"Group lower cases as 0, and upper cases as 1\"\"\"\n",
    "    if np.char.islower(case):\n",
    "        return 0\n",
    "    else:\n",
    "        return 1\n",
    "    \n",
    "def show_image(row):\n",
    "    \"\"\"Display a single image and its corresponding label.\"\"\"\n",
    "    image = row['image']\n",
    "    label = row['label']\n",
    "    plt.imshow(image, cmap='gray')\n",
    "    plt.title('Label: ' + int_to_char(label))\n",
    "    plt.axis('off')\n",
    "    plt.show()\n",
    "\n",
    "def show_grid(data, title=None, num_cols=5, figsize=(20, 10)):\n",
    "    \"\"\"\n",
    "    Display a list of images as a grid of num_cols columns.\n",
    "    images: a list of images, each represented as a 28x28 numpy array\n",
    "    labels: a list of labels, one for each image\n",
    "    title: (optional) a title for the plot\n",
    "    num_cols: (optional) number of columns to use in the grid\n",
    "    figsize: (optional) size of the figure\n",
    "    \"\"\"\n",
    "    num_images = len(data)\n",
    "    num_rows = (num_images - 1) // num_cols + 1\n",
    "    fig, axes = plt.subplots(num_rows, num_cols, figsize=figsize)\n",
    "    if title is not None:\n",
    "        fig.suptitle(title, fontsize=16)\n",
    "    for i in range(num_rows):\n",
    "        for j in range(num_cols):\n",
    "            index = i * num_cols + j\n",
    "            if index < num_images:\n",
    "                axes[i, j].imshow(data.iloc[index]['image'], cmap='gray')\n",
    "                axes[i, j].axis('off')\n",
    "                label = int_to_char(data.iloc[index]['label'])\n",
    "                axes[i, j].set_title(label)\n",
    "    plt.show()\n",
    "\n",
    "# Get a random image of a given label from the dataset\n",
    "def get_image_by_label(data, label):\n",
    "    \"\"\"Get a random image of a given label from the dataset.\"\"\"\n",
    "    images = data[data['label'] == label]['image'].tolist()\n",
    "    return random.choice(images)\n",
    "\n",
    "# Plot the training and validation accuracy during the training of a model\n",
    "def plot_accuracy(history):\n",
    "    \"\"\"Plot the training and validation accuracy during the training of a model.\"\"\"\n",
    "    acc = history.history['accuracy']\n",
    "    val_acc = history.history['val_accuracy']\n",
    "    epochs = range(1, len(acc) + 1)\n",
    "    plt.plot(epochs, acc, 'bo', label='Training accuracy')\n",
    "    plt.plot(epochs, val_acc, 'b', label='Validation accuracy')\n",
    "    plt.title('Training and validation accuracy')\n",
    "    plt.xlabel('Epochs')\n",
    "    plt.ylabel('Accuracy')\n",
    "    plt.legend()\n",
    "    plt.show()\n",
    "\n",
    "# Plot the training and validation loss during the training of a model\n",
    "def plot_loss(history):\n",
    "    \"\"\"Plot the training and validation loss during the training of a model.\"\"\"\n",
    "    loss = history.history['loss']\n",
    "    val_loss = history.history['val_loss']\n",
    "    epochs = range(1, len(loss) + 1)\n",
    "    plt.plot(epochs, loss, 'bo', label='Training loss')\n",
    "    plt.plot(epochs, val_loss, 'b', label='Validation loss')\n",
    "    plt.title('Training and validation loss')\n",
    "    plt.xlabel('Epochs')\n",
    "    plt.ylabel('Loss')\n",
    "    plt.legend()\n",
    "    plt.show()\n",
    "\n",
    "# Normalize the pixel values of the images in the dataset to have zero mean and unit variance\n",
    "# This is a common preprocessing step for neural networks, but may not be necessary in all cases\n",
    "def normalize_images(images):\n",
    "    \"\"\"Normalize the pixel values of the images in the dataset to have zero mean and unit variance.\"\"\"\n",
    "    images = np.array(images)\n",
    "    mean = images.mean()\n",
    "    std = images.std()\n",
    "    images = (images - mean) / std\n",
    "    return images.tolist()\n",
    "\n",
    "# Display metrics for a model\n",
    "def display_metrics(task, model_name, metrics_dict):\n",
    "    \"\"\"Display performance metrics and confusion matrix for a model.\"\"\"\n",
    "    metrics_df = pd.DataFrame()\n",
    "    cm_df = pd.DataFrame()\n",
    "    for key, value in metrics_dict[task][model_name].items():\n",
    "        if type(value) == np.ndarray:\n",
    "            cm_df = pd.DataFrame(value, index=['actual 0', 'actual 1'], columns=['predicted 0', 'predicted 1'])\n",
    "        else:\n",
    "            metrics_df[key] = [value]\n",
    "    display(Markdown(f'# Performance Metrics: {model_name}'))\n",
    "    display(metrics_df)\n",
    "    display(Markdown(f'# Confusion Matrix: {model_name}'))\n",
    "    display(cm_df)"
   ]
  },
  {
   "cell_type": "code",
   "execution_count": 102,
   "metadata": {},
   "outputs": [
    {
     "name": "stdout",
     "output_type": "stream",
     "text": [
      "(697932, 2)\n",
      "(814255, 2)\n"
     ]
    }
   ],
   "source": [
    "# extract both training and test from emnist\n",
    "image, label = emnist.extract_training_samples('byclass')\n",
    "raw_train = pd.DataFrame()\n",
    "raw_train['label'] = label\n",
    "raw_train['image'] = list(image)\n",
    "image, label = emnist.extract_test_samples('byclass')\n",
    "raw_test = pd.DataFrame()\n",
    "raw_test['label'] = label\n",
    "raw_test['image'] = list(image)\n",
    "print(raw_train.shape)\n",
    "raw_test.shape\n",
    "# combine training and test\n",
    "raw_data = pd.concat([raw_train,raw_test])\n",
    "print(raw_data.shape)\n",
    "#create a 10% subset of raw_data\n",
    "data = raw_data.sample(frac=0.1, replace=False, random_state=1)\n",
    "data.shape\n",
    "# add column \"class\" \n",
    "class_label = np.array([int_to_char(l) for l in data.iloc[:,0]])\n",
    "# make a copy of data added with class and image_flat cols\n",
    "data2 = data\n",
    "data2['class'] = class_label\n",
    "# add image_flat\n",
    "data2['image_flat'] = data2['image'].apply(lambda x: np.array(x).reshape(-1))\n",
    "# Split to train:test = 7:3\n",
    "train = data2.iloc[0:56998, :]\n",
    "test = data2.iloc[56998:, :]"
   ]
  },
  {
   "cell_type": "code",
   "execution_count": 103,
   "metadata": {},
   "outputs": [
    {
     "name": "stderr",
     "output_type": "stream",
     "text": [
      "c:\\Users\\wilso\\OneDrive\\Documents from long ago\\Datasci 223\\datasci_223\\.venv\\Lib\\site-packages\\sklearn\\metrics\\_classification.py:1497: UndefinedMetricWarning: Precision is ill-defined and being set to 0.0 in labels with no predicted samples. Use `zero_division` parameter to control this behavior.\n",
      "  _warn_prf(average, modifier, f\"{metric.capitalize()} is\", len(result))\n"
     ]
    },
    {
     "name": "stdout",
     "output_type": "stream",
     "text": [
      "[0.7480759783854594, 0.6389624182436264, 0.5219646237835093, 0.5433253811985825]\n"
     ]
    }
   ],
   "source": [
    "# Initialize random forest classifier\n",
    "rf_clf = RandomForestClassifier(n_estimators=20, random_state=5, max_depth=20)\n",
    "# Train and evaluate model\n",
    "rf_clf.fit(train['image_flat'].tolist(), train['class'])\n",
    "y_pred = rf_clf.predict(test['image_flat'].tolist())\n",
    "# Calculate performance metrics\n",
    "acc = accuracy_score(test['class'], y_pred)\n",
    "prec = precision_score(test['class'], y_pred, average='macro')\n",
    "rec = recall_score(test['class'], y_pred, average='macro')\n",
    "f1 = f1_score(test['class'], y_pred, average='macro')\n",
    "cm = confusion_matrix(test['class'], y_pred)\n",
    "print([acc,prec,rec,f1])"
   ]
  },
  {
   "cell_type": "code",
   "execution_count": 104,
   "metadata": {},
   "outputs": [
    {
     "name": "stderr",
     "output_type": "stream",
     "text": [
      "C:\\Users\\wilso\\AppData\\Local\\Temp\\ipykernel_24200\\2772864361.py:6: SettingWithCopyWarning: \n",
      "A value is trying to be set on a copy of a slice from a DataFrame.\n",
      "Try using .loc[row_indexer,col_indexer] = value instead\n",
      "\n",
      "See the caveats in the documentation: https://pandas.pydata.org/pandas-docs/stable/user_guide/indexing.html#returning-a-view-versus-a-copy\n",
      "  abcxyz['case'] = case_label\n"
     ]
    }
   ],
   "source": [
    "# Subset for upper- and lowercase letters a, b, c, x, y, z\n",
    "abcxyz = data2[(data2['class'].isin(['a', 'b', 'c', 'A', 'B', 'C', \\\n",
    "                                               'x', 'y', 'z', 'X', 'Y', 'Z']))]\n",
    "# add column \"case\" \n",
    "case_label = np.array([which_case(l) for l in abcxyz.iloc[:,2]])\n",
    "abcxyz['case'] = case_label"
   ]
  },
  {
   "cell_type": "code",
   "execution_count": 105,
   "metadata": {},
   "outputs": [],
   "source": [
    "# Data splitting\n",
    "X=abcxyz['image_flat'].tolist()\n",
    "y=abcxyz['case'].tolist()\n",
    "# Select candidate models, hyperparameter options, and evaluation metric\n",
    "rf_param_grid = {'n_estimators': [10, 20], 'max_depth': [10, 20], 'random_state': [5, 5]}\n",
    "xgb_param_grid = {'n_estimators': [10, 20], 'max_depth': [3, 5], 'learning_rate': [0.3, 0.4], 'random_state': [5, 5]}\n",
    "\n",
    "scoring_metric = 'accuracy'\n",
    "# Split data into train and test\n",
    "X_train, X_val, y_train, y_val = train_test_split(X, y, test_size=0.2, random_state=42)\n",
    "# Define how many folds to split on\n",
    "kf = KFold(n_splits=2, shuffle=True, random_state=42)\n",
    "models = [\n",
    "    (RandomForestClassifier(), rf_param_grid),\n",
    "    (XGBClassifier(), xgb_param_grid)\n",
    "]\n",
    "# Initialize best score and best model\n",
    "best_score = 0\n",
    "best_model = None"
   ]
  },
  {
   "cell_type": "code",
   "execution_count": 106,
   "metadata": {},
   "outputs": [
    {
     "name": "stdout",
     "output_type": "stream",
     "text": [
      "Best Model: {'bootstrap': True, 'ccp_alpha': 0.0, 'class_weight': None, 'criterion': 'gini', 'max_depth': 10, 'max_features': 'sqrt', 'max_leaf_nodes': None, 'max_samples': None, 'min_impurity_decrease': 0.0, 'min_samples_leaf': 1, 'min_samples_split': 2, 'min_weight_fraction_leaf': 0.0, 'monotonic_cst': None, 'n_estimators': 20, 'n_jobs': None, 'oob_score': False, 'random_state': 5, 'verbose': 0, 'warm_start': False}\n"
     ]
    },
    {
     "data": {
      "text/plain": [
       "0.7984024343856979"
      ]
     },
     "execution_count": 106,
     "metadata": {},
     "output_type": "execute_result"
    }
   ],
   "source": [
    "for model, param_grid in models:\n",
    "    for param_combination in ParameterGrid(param_grid):\n",
    "        model.set_params(**param_combination)\n",
    " # cross_val_score returns array of scores, which you need to take the avg\n",
    "        scores = cross_val_score(model, X_train, y_train, cv=kf, scoring='accuracy')\n",
    "        avg_score = np.mean(scores)\n",
    "        if avg_score > best_score:\n",
    "            best_score = avg_score\n",
    "            best_model = model.get_params()\n",
    "# Print the best model\n",
    "print(\"Best Model:\", best_model)\n",
    "best_score"
   ]
  },
  {
   "cell_type": "code",
   "execution_count": 107,
   "metadata": {},
   "outputs": [
    {
     "name": "stdout",
     "output_type": "stream",
     "text": [
      "Validation Hold-out Score: 0.823574144486692\n"
     ]
    }
   ],
   "source": [
    "randfor_clf = RandomForestClassifier(n_estimators=20, random_state=5, max_depth=10)\n",
    "randfor_clf.fit(X_train, y_train)\n",
    "y_val_pred = randfor_clf.predict(X_val)\n",
    "validation_score = accuracy_score(y_val, y_val_pred)\n",
    "print(f\"Validation Hold-out Score: {validation_score}\")"
   ]
  }
 ],
 "metadata": {
  "kernelspec": {
   "display_name": ".venv",
   "language": "python",
   "name": "python3"
  },
  "language_info": {
   "codemirror_mode": {
    "name": "ipython",
    "version": 3
   },
   "file_extension": ".py",
   "mimetype": "text/x-python",
   "name": "python",
   "nbconvert_exporter": "python",
   "pygments_lexer": "ipython3",
   "version": "3.12.1"
  }
 },
 "nbformat": 4,
 "nbformat_minor": 2
}
